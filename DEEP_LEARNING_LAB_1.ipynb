{
  "nbformat": 4,
  "nbformat_minor": 0,
  "metadata": {
    "colab": {
      "provenance": []
    },
    "kernelspec": {
      "name": "python3",
      "display_name": "Python 3"
    },
    "language_info": {
      "name": "python"
    }
  },
  "cells": [
    {
      "cell_type": "markdown",
      "source": [
        "NAME THUMMA MANOJNA REDDY    22WU0104134"
      ],
      "metadata": {
        "id": "yGbHjqNmey4z"
      }
    },
    {
      "cell_type": "markdown",
      "source": [
        "**1.Experiment 1: Implementation of a single artificial neuron.\n",
        "oWrite a program to simulate a single artificial neuron performing binary classification.\n",
        "oInputs, weights, bias, and activation function.**"
      ],
      "metadata": {
        "id": "wNaC_mexdT3w"
      }
    },
    {
      "cell_type": "code",
      "execution_count": 1,
      "metadata": {
        "colab": {
          "base_uri": "https://localhost:8080/"
        },
        "id": "tf1yDm2vP8Wt",
        "outputId": "94c5b77b-71ae-4f1c-b4d7-3670a341aead"
      },
      "outputs": [
        {
          "output_type": "stream",
          "name": "stdout",
          "text": [
            "Inputs: [1 0]\n",
            "Weights: [ 0.8 -0.5]\n",
            "Bias: 0.2\n",
            "Weighted sum: 1.0\n",
            "Output (after sigmoid): 0.7310585786300049\n",
            "Binary Classification: 1\n"
          ]
        }
      ],
      "source": [
        "import numpy as np\n",
        "\n",
        "# Define the sigmoid activation function\n",
        "def sigmoid(x):\n",
        "    return 1 / (1 + np.exp(-x))\n",
        "\n",
        "# Define the artificial neuron\n",
        "def single_neuron(inputs, weights, bias):\n",
        "    # Calculate the weighted sum of inputs\n",
        "    weighted_sum = np.dot(inputs, weights) + bias\n",
        "\n",
        "    # Apply the sigmoid activation function\n",
        "    output = sigmoid(weighted_sum)\n",
        "\n",
        "    return output\n",
        "\n",
        "# Inputs to the neuron\n",
        "inputs = np.array([1, 0])  # Example inputs (can be changed)\n",
        "\n",
        "# Weights for each input\n",
        "weights = np.array([0.8, -0.5])  # Example weights (can be adjusted)\n",
        "\n",
        "# Bias\n",
        "bias = 0.2  # Example bias (can be adjusted)\n",
        "\n",
        "# Perform binary classification\n",
        "output = single_neuron(inputs, weights, bias)\n",
        "\n",
        "# Classify based on a threshold (0.5)\n",
        "classification = 1 if output >= 0.5 else 0\n",
        "\n",
        "# Display the results\n",
        "print(\"Inputs:\", inputs)\n",
        "print(\"Weights:\", weights)\n",
        "print(\"Bias:\", bias)\n",
        "print(\"Weighted sum:\", np.dot(inputs, weights) + bias)\n",
        "print(\"Output (after sigmoid):\", output)\n",
        "print(\"Binary Classification:\", classification)\n"
      ]
    },
    {
      "cell_type": "markdown",
      "source": [
        "**2.Experiment 2: Implementation of Single Layer Perceptron (SLP).\n",
        "oTrain and test SLP on a linearly separable dataset (e.g., AND/OR gate).**"
      ],
      "metadata": {
        "id": "lgUd93crdms7"
      }
    },
    {
      "cell_type": "code",
      "source": [
        "import numpy as np\n",
        "\n",
        "# Step activation function\n",
        "def step_function(x):\n",
        "    return 1 if x >= 0 else 0\n",
        "\n",
        "# Single-Layer Perceptron (SLP) class\n",
        "class SingleLayerPerceptron:\n",
        "    def __init__(self, input_size, learning_rate=0.1, epochs=10):\n",
        "        self.weights = np.zeros(input_size)\n",
        "        self.bias = 0\n",
        "        self.learning_rate = learning_rate\n",
        "        self.epochs = epochs\n",
        "\n",
        "    def predict(self, inputs):\n",
        "        # Compute weighted sum\n",
        "        weighted_sum = np.dot(inputs, self.weights) + self.bias\n",
        "        # Apply step activation function\n",
        "        return step_function(weighted_sum)\n",
        "\n",
        "    def train(self, X, y):\n",
        "        for epoch in range(self.epochs):\n",
        "            print(f\"Epoch {epoch + 1}/{self.epochs}\")\n",
        "            for inputs, target in zip(X, y):\n",
        "                # Make prediction\n",
        "                prediction = self.predict(inputs)\n",
        "                # Compute error\n",
        "                error = target - prediction\n",
        "                # Update weights and bias\n",
        "                self.weights += self.learning_rate * error * inputs\n",
        "                self.bias += self.learning_rate * error\n",
        "                print(f\"  Inputs: {inputs}, Target: {target}, Prediction: {prediction}, Error: {error}\")\n",
        "            print(f\"  Updated weights: {self.weights}, Updated bias: {self.bias}\\n\")\n",
        "\n",
        "# Linearly separable dataset (AND gate)\n",
        "X = np.array([[0, 0], [0, 1], [1, 0], [1, 1]])  # Inputs\n",
        "y = np.array([0, 0, 0, 1])  # Outputs (AND gate)\n",
        "\n",
        "# Initialize perceptron\n",
        "perceptron = SingleLayerPerceptron(input_size=2, learning_rate=0.1, epochs=10)\n",
        "\n",
        "# Train the perceptron\n",
        "print(\"Training the perceptron on the AND gate dataset:\\n\")\n",
        "perceptron.train(X, y)\n",
        "\n",
        "# Test the perceptron\n",
        "print(\"Testing the perceptron on the AND gate dataset:\\n\")\n",
        "for inputs in X:\n",
        "    prediction = perceptron.predict(inputs)\n",
        "    print(f\"  Inputs: {inputs}, Prediction: {prediction}\")\n"
      ],
      "metadata": {
        "colab": {
          "base_uri": "https://localhost:8080/"
        },
        "id": "lXF7TVNwW1hO",
        "outputId": "1d83a571-2b08-4667-bcd8-4278297e61ba"
      },
      "execution_count": 2,
      "outputs": [
        {
          "output_type": "stream",
          "name": "stdout",
          "text": [
            "Training the perceptron on the AND gate dataset:\n",
            "\n",
            "Epoch 1/10\n",
            "  Inputs: [0 0], Target: 0, Prediction: 1, Error: -1\n",
            "  Inputs: [0 1], Target: 0, Prediction: 0, Error: 0\n",
            "  Inputs: [1 0], Target: 0, Prediction: 0, Error: 0\n",
            "  Inputs: [1 1], Target: 1, Prediction: 0, Error: 1\n",
            "  Updated weights: [0.1 0.1], Updated bias: 0.0\n",
            "\n",
            "Epoch 2/10\n",
            "  Inputs: [0 0], Target: 0, Prediction: 1, Error: -1\n",
            "  Inputs: [0 1], Target: 0, Prediction: 1, Error: -1\n",
            "  Inputs: [1 0], Target: 0, Prediction: 0, Error: 0\n",
            "  Inputs: [1 1], Target: 1, Prediction: 0, Error: 1\n",
            "  Updated weights: [0.2 0.1], Updated bias: -0.1\n",
            "\n",
            "Epoch 3/10\n",
            "  Inputs: [0 0], Target: 0, Prediction: 0, Error: 0\n",
            "  Inputs: [0 1], Target: 0, Prediction: 1, Error: -1\n",
            "  Inputs: [1 0], Target: 0, Prediction: 1, Error: -1\n",
            "  Inputs: [1 1], Target: 1, Prediction: 0, Error: 1\n",
            "  Updated weights: [0.2 0.1], Updated bias: -0.20000000000000004\n",
            "\n",
            "Epoch 4/10\n",
            "  Inputs: [0 0], Target: 0, Prediction: 0, Error: 0\n",
            "  Inputs: [0 1], Target: 0, Prediction: 0, Error: 0\n",
            "  Inputs: [1 0], Target: 0, Prediction: 0, Error: 0\n",
            "  Inputs: [1 1], Target: 1, Prediction: 1, Error: 0\n",
            "  Updated weights: [0.2 0.1], Updated bias: -0.20000000000000004\n",
            "\n",
            "Epoch 5/10\n",
            "  Inputs: [0 0], Target: 0, Prediction: 0, Error: 0\n",
            "  Inputs: [0 1], Target: 0, Prediction: 0, Error: 0\n",
            "  Inputs: [1 0], Target: 0, Prediction: 0, Error: 0\n",
            "  Inputs: [1 1], Target: 1, Prediction: 1, Error: 0\n",
            "  Updated weights: [0.2 0.1], Updated bias: -0.20000000000000004\n",
            "\n",
            "Epoch 6/10\n",
            "  Inputs: [0 0], Target: 0, Prediction: 0, Error: 0\n",
            "  Inputs: [0 1], Target: 0, Prediction: 0, Error: 0\n",
            "  Inputs: [1 0], Target: 0, Prediction: 0, Error: 0\n",
            "  Inputs: [1 1], Target: 1, Prediction: 1, Error: 0\n",
            "  Updated weights: [0.2 0.1], Updated bias: -0.20000000000000004\n",
            "\n",
            "Epoch 7/10\n",
            "  Inputs: [0 0], Target: 0, Prediction: 0, Error: 0\n",
            "  Inputs: [0 1], Target: 0, Prediction: 0, Error: 0\n",
            "  Inputs: [1 0], Target: 0, Prediction: 0, Error: 0\n",
            "  Inputs: [1 1], Target: 1, Prediction: 1, Error: 0\n",
            "  Updated weights: [0.2 0.1], Updated bias: -0.20000000000000004\n",
            "\n",
            "Epoch 8/10\n",
            "  Inputs: [0 0], Target: 0, Prediction: 0, Error: 0\n",
            "  Inputs: [0 1], Target: 0, Prediction: 0, Error: 0\n",
            "  Inputs: [1 0], Target: 0, Prediction: 0, Error: 0\n",
            "  Inputs: [1 1], Target: 1, Prediction: 1, Error: 0\n",
            "  Updated weights: [0.2 0.1], Updated bias: -0.20000000000000004\n",
            "\n",
            "Epoch 9/10\n",
            "  Inputs: [0 0], Target: 0, Prediction: 0, Error: 0\n",
            "  Inputs: [0 1], Target: 0, Prediction: 0, Error: 0\n",
            "  Inputs: [1 0], Target: 0, Prediction: 0, Error: 0\n",
            "  Inputs: [1 1], Target: 1, Prediction: 1, Error: 0\n",
            "  Updated weights: [0.2 0.1], Updated bias: -0.20000000000000004\n",
            "\n",
            "Epoch 10/10\n",
            "  Inputs: [0 0], Target: 0, Prediction: 0, Error: 0\n",
            "  Inputs: [0 1], Target: 0, Prediction: 0, Error: 0\n",
            "  Inputs: [1 0], Target: 0, Prediction: 0, Error: 0\n",
            "  Inputs: [1 1], Target: 1, Prediction: 1, Error: 0\n",
            "  Updated weights: [0.2 0.1], Updated bias: -0.20000000000000004\n",
            "\n",
            "Testing the perceptron on the AND gate dataset:\n",
            "\n",
            "  Inputs: [0 0], Prediction: 0\n",
            "  Inputs: [0 1], Prediction: 0\n",
            "  Inputs: [1 0], Prediction: 0\n",
            "  Inputs: [1 1], Prediction: 1\n"
          ]
        }
      ]
    },
    {
      "cell_type": "markdown",
      "source": [
        "**3.Experiment 3: Multi-Layer Perceptron (MLP) for XOR Gate.\n",
        "oDesign and train MLP to solve the XOR problem.**"
      ],
      "metadata": {
        "id": "-p1eAFeldz2y"
      }
    },
    {
      "cell_type": "code",
      "source": [
        "import numpy as np\n",
        "\n",
        "# Sigmoid activation function and its derivative\n",
        "def sigmoid(x):\n",
        "    return 1 / (1 + np.exp(-x))\n",
        "\n",
        "def sigmoid_derivative(x):\n",
        "    return x * (1 - x)\n",
        "\n",
        "# Multi-Layer Perceptron (MLP) class\n",
        "class MLP:\n",
        "    def __init__(self, input_size, hidden_size, output_size, learning_rate=0.1, epochs=10000):\n",
        "        # Initialize weights and biases\n",
        "        self.weights_input_hidden = np.random.rand(input_size, hidden_size) - 0.5\n",
        "        self.bias_hidden = np.random.rand(hidden_size) - 0.5\n",
        "        self.weights_hidden_output = np.random.rand(hidden_size, output_size) - 0.5\n",
        "        self.bias_output = np.random.rand(output_size) - 0.5\n",
        "        self.learning_rate = learning_rate\n",
        "        self.epochs = epochs\n",
        "\n",
        "    def forward(self, inputs):\n",
        "        # Forward pass\n",
        "        self.hidden_input = np.dot(inputs, self.weights_input_hidden) + self.bias_hidden\n",
        "        self.hidden_output = sigmoid(self.hidden_input)\n",
        "\n",
        "        self.output_input = np.dot(self.hidden_output, self.weights_hidden_output) + self.bias_output\n",
        "        self.output_output = sigmoid(self.output_input)\n",
        "        return self.output_output\n",
        "\n",
        "    def backward(self, inputs, target_output, predicted_output):\n",
        "        # Calculate output layer error and gradient\n",
        "        output_error = target_output - predicted_output\n",
        "        output_gradient = output_error * sigmoid_derivative(predicted_output)\n",
        "\n",
        "        # Calculate hidden layer error and gradient\n",
        "        hidden_error = np.dot(output_gradient, self.weights_hidden_output.T)\n",
        "        hidden_gradient = hidden_error * sigmoid_derivative(self.hidden_output)\n",
        "\n",
        "        # Update weights and biases\n",
        "        self.weights_hidden_output += np.dot(self.hidden_output.T, output_gradient) * self.learning_rate\n",
        "        self.bias_output += np.sum(output_gradient, axis=0) * self.learning_rate\n",
        "\n",
        "        self.weights_input_hidden += np.dot(inputs.T, hidden_gradient) * self.learning_rate\n",
        "        self.bias_hidden += np.sum(hidden_gradient, axis=0) * self.learning_rate\n",
        "\n",
        "    def train(self, X, y):\n",
        "        for epoch in range(self.epochs):\n",
        "            # Forward and backward pass\n",
        "            predicted_output = self.forward(X)\n",
        "            self.backward(X, y, predicted_output)\n",
        "            if (epoch + 1) % 1000 == 0:\n",
        "                loss = np.mean((y - predicted_output) ** 2)\n",
        "                print(f\"Epoch {epoch + 1}/{self.epochs}, Loss: {loss:.4f}\")\n",
        "\n",
        "    def predict(self, X):\n",
        "        # Predict output for new inputs\n",
        "        return self.forward(X)\n",
        "\n",
        "# XOR dataset\n",
        "X = np.array([[0, 0], [0, 1], [1, 0], [1, 1]])  # Inputs\n",
        "y = np.array([[0], [1], [1], [0]])  # Outputs\n",
        "\n",
        "# Initialize and train the MLP\n",
        "mlp = MLP(input_size=2, hidden_size=2, output_size=1, learning_rate=0.1, epochs=10000)\n",
        "print(\"Training the MLP on the XOR gate dataset...\\n\")\n",
        "mlp.train(X, y)\n",
        "\n",
        "# Test the MLP\n",
        "print(\"\\nTesting the MLP on the XOR gate dataset:\")\n",
        "for inputs in X:\n",
        "    prediction = mlp.predict(inputs)\n",
        "    print(f\"Inputs: {inputs}, Predicted Output: {np.round(prediction[0])}, Actual Output: {int(y[np.where((X == inputs).all(axis=1))[0][0]])}\")\n"
      ],
      "metadata": {
        "colab": {
          "base_uri": "https://localhost:8080/"
        },
        "id": "IT7xAl7IXJu8",
        "outputId": "bc6fba1a-c320-467d-cddb-a57cd3ae4981"
      },
      "execution_count": 3,
      "outputs": [
        {
          "output_type": "stream",
          "name": "stdout",
          "text": [
            "Training the MLP on the XOR gate dataset...\n",
            "\n",
            "Epoch 1000/10000, Loss: 0.2500\n",
            "Epoch 2000/10000, Loss: 0.2500\n",
            "Epoch 3000/10000, Loss: 0.2499\n",
            "Epoch 4000/10000, Loss: 0.2498\n",
            "Epoch 5000/10000, Loss: 0.2496\n",
            "Epoch 6000/10000, Loss: 0.2484\n",
            "Epoch 7000/10000, Loss: 0.2370\n",
            "Epoch 8000/10000, Loss: 0.1895\n",
            "Epoch 9000/10000, Loss: 0.0671\n",
            "Epoch 10000/10000, Loss: 0.0177\n",
            "\n",
            "Testing the MLP on the XOR gate dataset:\n",
            "Inputs: [0 0], Predicted Output: 0.0, Actual Output: 0\n",
            "Inputs: [0 1], Predicted Output: 1.0, Actual Output: 1\n",
            "Inputs: [1 0], Predicted Output: 1.0, Actual Output: 1\n",
            "Inputs: [1 1], Predicted Output: 0.0, Actual Output: 0\n"
          ]
        },
        {
          "output_type": "stream",
          "name": "stderr",
          "text": [
            "<ipython-input-3-e1fc2e6d5d3d>:72: DeprecationWarning: Conversion of an array with ndim > 0 to a scalar is deprecated, and will error in future. Ensure you extract a single element from your array before performing this operation. (Deprecated NumPy 1.25.)\n",
            "  print(f\"Inputs: {inputs}, Predicted Output: {np.round(prediction[0])}, Actual Output: {int(y[np.where((X == inputs).all(axis=1))[0][0]])}\")\n"
          ]
        }
      ]
    },
    {
      "cell_type": "markdown",
      "source": [
        "**4.Experiment 4: Activation Functions.\n",
        "oImplement Sigmoid, ReLU, and Tanh activation functions.\n",
        "oCompare their outputs on a dataset.**"
      ],
      "metadata": {
        "id": "v0k-dGqJeTla"
      }
    },
    {
      "cell_type": "code",
      "source": [
        "import numpy as np\n",
        "import matplotlib.pyplot as plt\n",
        "\n",
        "# Activation functions\n",
        "def sigmoid(x):\n",
        "    return 1 / (1 + np.exp(-x))\n",
        "\n",
        "def relu(x):\n",
        "    return np.maximum(0, x)\n",
        "\n",
        "def tanh(x):\n",
        "    return np.tanh(x)\n",
        "\n",
        "# Generate a dataset\n",
        "x = np.linspace(-10, 10, 100)  # 100 points between -10 and 10\n",
        "\n",
        "# Compute the outputs of each activation function\n",
        "sigmoid_output = sigmoid(x)\n",
        "relu_output = relu(x)\n",
        "tanh_output = tanh(x)\n",
        "\n",
        "# Plot the activation functions\n",
        "plt.figure(figsize=(10, 6))\n",
        "\n",
        "# Sigmoid\n",
        "plt.plot(x, sigmoid_output, label=\"Sigmoid\", color=\"blue\")\n",
        "# ReLU\n",
        "plt.plot(x, relu_output, label=\"ReLU\", color=\"red\")\n",
        "# Tanh\n",
        "plt.plot(x, tanh_output, label=\"Tanh\", color=\"green\")\n",
        "\n",
        "# Formatting the plot\n",
        "plt.title(\"Comparison of Activation Functions\")\n",
        "plt.xlabel(\"Input\")\n",
        "plt.ylabel(\"Output\")\n",
        "plt.axhline(0, color=\"black\", linewidth=0.5, linestyle=\"--\")\n",
        "plt.axvline(0, color=\"black\", linewidth=0.5, linestyle=\"--\")\n",
        "plt.legend()\n",
        "plt.grid(True)\n",
        "plt.show()\n"
      ],
      "metadata": {
        "colab": {
          "base_uri": "https://localhost:8080/",
          "height": 564
        },
        "id": "sIQF5D30XmYX",
        "outputId": "bf33899c-298a-45ac-c8fe-8e57f672d66e"
      },
      "execution_count": 4,
      "outputs": [
        {
          "output_type": "display_data",
          "data": {
            "text/plain": [
              "<Figure size 1000x600 with 1 Axes>"
            ],
            "image/png": "[encoded data removed]"
          },
          "metadata": {}
        }
      ]
    },
    {
      "cell_type": "markdown",
      "source": [
        "**5.Experiment 5: Forward and Backpropagation.\n",
        "oImplement forward propagation and backpropagation manually for a 2-layer neural network.**"
      ],
      "metadata": {
        "id": "AEiyo84wehkP"
      }
    },
    {
      "cell_type": "code",
      "source": [
        "import numpy as np\n",
        "\n",
        "# Sigmoid activation function and its derivative\n",
        "def sigmoid(x):\n",
        "    return 1 / (1 + np.exp(-x))\n",
        "\n",
        "def sigmoid_derivative(x):\n",
        "    return sigmoid(x) * (1 - sigmoid(x))\n",
        "\n",
        "# Mean Squared Error loss function and its derivative\n",
        "def mse_loss(y_true, y_pred):\n",
        "    return np.mean((y_true - y_pred) ** 2)\n",
        "\n",
        "def mse_loss_derivative(y_true, y_pred):\n",
        "    return -(y_true - y_pred)\n",
        "\n",
        "# Initialize parameters\n",
        "np.random.seed(42)\n",
        "input_dim = 2\n",
        "hidden_dim = 2\n",
        "output_dim = 1\n",
        "\n",
        "# Randomly initialize weights and biases\n",
        "W1 = np.random.rand(input_dim, hidden_dim)\n",
        "b1 = np.random.rand(hidden_dim)\n",
        "W2 = np.random.rand(hidden_dim, output_dim)\n",
        "b2 = np.random.rand(output_dim)\n",
        "\n",
        "# Input data (X) and target output (y)\n",
        "X = np.array([[0, 0], [0, 1], [1, 0], [1, 1]])  # XOR inputs\n",
        "y = np.array([[0], [1], [1], [0]])              # XOR outputs\n",
        "\n",
        "# Learning rate\n",
        "learning_rate = 0.1\n",
        "\n",
        "# Forward propagation\n",
        "def forward_propagation(X):\n",
        "    Z1 = np.dot(X, W1) + b1      # Hidden layer linear combination\n",
        "    A1 = sigmoid(Z1)            # Hidden layer activation\n",
        "    Z2 = np.dot(A1, W2) + b2    # Output layer linear combination\n",
        "    A2 = sigmoid(Z2)            # Output layer activation (prediction)\n",
        "    return Z1, A1, Z2, A2\n",
        "\n",
        "# Backpropagation\n",
        "for epoch in range(10000):  # Train for 10000 epochs\n",
        "    # Forward propagation\n",
        "    Z1, A1, Z2, A2 = forward_propagation(X)\n",
        "\n",
        "    # Compute loss\n",
        "    loss = mse_loss(y, A2)\n",
        "\n",
        "    # Backward propagation\n",
        "    dA2 = mse_loss_derivative(y, A2) * sigmoid_derivative(Z2)  # Gradients for output layer\n",
        "    dW2 = np.dot(A1.T, dA2)\n",
        "    db2 = np.sum(dA2, axis=0)\n",
        "\n",
        "    dA1 = np.dot(dA2, W2.T) * sigmoid_derivative(Z1)  # Gradients for hidden layer\n",
        "    dW1 = np.dot(X.T, dA1)\n",
        "    db1 = np.sum(dA1, axis=0)\n",
        "\n",
        "    # Update weights and biases\n",
        "    W2 -= learning_rate * dW2\n",
        "    b2 -= learning_rate * db2\n",
        "    W1 -= learning_rate * dW1\n",
        "    b1 -= learning_rate * db1\n",
        "\n",
        "    # Print loss every 1000 epochs\n",
        "    if epoch % 1000 == 0:\n",
        "        print(f\"Epoch {epoch}, Loss: {loss:.4f}\")\n",
        "\n",
        "# Final predictions\n",
        "_, _, _, predictions = forward_propagation(X)\n",
        "print(\"\\nFinal Predictions:\")\n",
        "print(predictions)\n"
      ],
      "metadata": {
        "colab": {
          "base_uri": "https://localhost:8080/"
        },
        "id": "SgGzCzWJX69V",
        "outputId": "064824e6-cde1-4126-e239-803293711958"
      },
      "execution_count": 6,
      "outputs": [
        {
          "output_type": "stream",
          "name": "stdout",
          "text": [
            "Epoch 0, Loss: 0.3247\n",
            "Epoch 1000, Loss: 0.2406\n",
            "Epoch 2000, Loss: 0.1960\n",
            "Epoch 3000, Loss: 0.1207\n",
            "Epoch 4000, Loss: 0.0305\n",
            "Epoch 5000, Loss: 0.0125\n",
            "Epoch 6000, Loss: 0.0074\n",
            "Epoch 7000, Loss: 0.0051\n",
            "Epoch 8000, Loss: 0.0038\n",
            "Epoch 9000, Loss: 0.0031\n",
            "\n",
            "Final Predictions:\n",
            "[[0.05321718]\n",
            " [0.95171956]\n",
            " [0.95160871]\n",
            " [0.05174923]]\n"
          ]
        }
      ]
    },
    {
      "cell_type": "markdown",
      "source": [],
      "metadata": {
        "id": "_NITvKfPewY4"
      }
    }
  ]
}